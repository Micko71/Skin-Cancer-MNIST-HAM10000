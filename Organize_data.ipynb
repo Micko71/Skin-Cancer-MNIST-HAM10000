{
 "cells": [
  {
   "cell_type": "markdown",
   "id": "3d7ebc70",
   "metadata": {},
   "source": [
    "## Split and group images"
   ]
  },
  {
   "cell_type": "code",
   "execution_count": 2,
   "id": "813b187f",
   "metadata": {},
   "outputs": [],
   "source": [
    "import pandas as pd\n",
    "import numpy as np\n",
    "import seaborn as sns\n",
    "import os\n",
    "import shutil\n",
    "\n",
    "from sklearn.model_selection import train_test_split"
   ]
  },
  {
   "cell_type": "code",
   "execution_count": 3,
   "id": "6009c8c3",
   "metadata": {},
   "outputs": [
    {
     "data": {
      "text/html": [
       "<div>\n",
       "<style scoped>\n",
       "    .dataframe tbody tr th:only-of-type {\n",
       "        vertical-align: middle;\n",
       "    }\n",
       "\n",
       "    .dataframe tbody tr th {\n",
       "        vertical-align: top;\n",
       "    }\n",
       "\n",
       "    .dataframe thead th {\n",
       "        text-align: right;\n",
       "    }\n",
       "</style>\n",
       "<table border=\"1\" class=\"dataframe\">\n",
       "  <thead>\n",
       "    <tr style=\"text-align: right;\">\n",
       "      <th></th>\n",
       "      <th>lesion_id</th>\n",
       "      <th>image_id</th>\n",
       "      <th>dx</th>\n",
       "      <th>dx_type</th>\n",
       "      <th>age</th>\n",
       "      <th>sex</th>\n",
       "      <th>localization</th>\n",
       "    </tr>\n",
       "  </thead>\n",
       "  <tbody>\n",
       "    <tr>\n",
       "      <th>0</th>\n",
       "      <td>HAM_0000118</td>\n",
       "      <td>ISIC_0027419</td>\n",
       "      <td>bkl</td>\n",
       "      <td>histo</td>\n",
       "      <td>80.0</td>\n",
       "      <td>male</td>\n",
       "      <td>scalp</td>\n",
       "    </tr>\n",
       "    <tr>\n",
       "      <th>1</th>\n",
       "      <td>HAM_0000118</td>\n",
       "      <td>ISIC_0025030</td>\n",
       "      <td>bkl</td>\n",
       "      <td>histo</td>\n",
       "      <td>80.0</td>\n",
       "      <td>male</td>\n",
       "      <td>scalp</td>\n",
       "    </tr>\n",
       "    <tr>\n",
       "      <th>2</th>\n",
       "      <td>HAM_0002730</td>\n",
       "      <td>ISIC_0026769</td>\n",
       "      <td>bkl</td>\n",
       "      <td>histo</td>\n",
       "      <td>80.0</td>\n",
       "      <td>male</td>\n",
       "      <td>scalp</td>\n",
       "    </tr>\n",
       "    <tr>\n",
       "      <th>3</th>\n",
       "      <td>HAM_0002730</td>\n",
       "      <td>ISIC_0025661</td>\n",
       "      <td>bkl</td>\n",
       "      <td>histo</td>\n",
       "      <td>80.0</td>\n",
       "      <td>male</td>\n",
       "      <td>scalp</td>\n",
       "    </tr>\n",
       "    <tr>\n",
       "      <th>4</th>\n",
       "      <td>HAM_0001466</td>\n",
       "      <td>ISIC_0031633</td>\n",
       "      <td>bkl</td>\n",
       "      <td>histo</td>\n",
       "      <td>75.0</td>\n",
       "      <td>male</td>\n",
       "      <td>ear</td>\n",
       "    </tr>\n",
       "  </tbody>\n",
       "</table>\n",
       "</div>"
      ],
      "text/plain": [
       "     lesion_id      image_id   dx dx_type   age   sex localization\n",
       "0  HAM_0000118  ISIC_0027419  bkl   histo  80.0  male        scalp\n",
       "1  HAM_0000118  ISIC_0025030  bkl   histo  80.0  male        scalp\n",
       "2  HAM_0002730  ISIC_0026769  bkl   histo  80.0  male        scalp\n",
       "3  HAM_0002730  ISIC_0025661  bkl   histo  80.0  male        scalp\n",
       "4  HAM_0001466  ISIC_0031633  bkl   histo  75.0  male          ear"
      ]
     },
     "execution_count": 3,
     "metadata": {},
     "output_type": "execute_result"
    }
   ],
   "source": [
    "df = pd.read_csv('HAM10000_metadata.csv')\n",
    "df.head()"
   ]
  },
  {
   "cell_type": "code",
   "execution_count": 34,
   "id": "c3479e85",
   "metadata": {},
   "outputs": [
    {
     "data": {
      "text/plain": [
       "<AxesSubplot:xlabel='dx', ylabel='count'>"
      ]
     },
     "execution_count": 34,
     "metadata": {},
     "output_type": "execute_result"
    },
    {
     "data": {
      "image/png": "[encoded data removed]",
      "text/plain": [
       "<Figure size 432x288 with 1 Axes>"
      ]
     },
     "metadata": {
      "needs_background": "light"
     },
     "output_type": "display_data"
    }
   ],
   "source": [
    "sns.countplot(x=df.dx)"
   ]
  },
  {
   "cell_type": "code",
   "execution_count": 21,
   "id": "0a0cef5b",
   "metadata": {},
   "outputs": [],
   "source": [
    "# Split into train,test and validation sets maintaining class balance\n",
    "train_df, test_df = train_test_split(df, test_size=0.4,random_state=5,stratify=df.dx)\n",
    "test_df, val_df = train_test_split(test_df, test_size=0.5,random_state=5,stratify=test_df.dx)"
   ]
  },
  {
   "cell_type": "code",
   "execution_count": 35,
   "id": "a6c3ef8a",
   "metadata": {},
   "outputs": [],
   "source": [
    "#path to all images\n",
    "data_dir = os.getcwd() + \"/data/images_all/\"\n",
    "\n",
    "#path to destination directories\n",
    "train_dest_dir = os.getcwd() + \"/data/train/\"\n",
    "val_dest_dir = os.getcwd() + \"/data/val/\"\n",
    "test_dest_dir = os.getcwd() + \"/data/test/\""
   ]
  },
  {
   "cell_type": "code",
   "execution_count": 36,
   "id": "bc20c44f",
   "metadata": {},
   "outputs": [],
   "source": [
    "#Extract labels into a list\n",
    "label=df['dx'].unique().tolist()  "
   ]
  },
  {
   "cell_type": "code",
   "execution_count": 37,
   "id": "4ed3d738",
   "metadata": {},
   "outputs": [],
   "source": [
    "def sort_images(df,dest_dir,label=label):\n",
    "    \"\"\"Make subfolder for each class and populate with images\"\"\"\n",
    "    label_images = []\n",
    "    for i in label:\n",
    "        os.mkdir(dest_dir + str(i) + \"/\")\n",
    "        sample = df[df['dx'] == i]['image_id']\n",
    "        label_images.extend(sample)\n",
    "        for id in label_images:\n",
    "            shutil.copyfile((data_dir + \"/\"+ id +\".jpg\"), (dest_dir + i + \"/\"+id+\".jpg\"))\n",
    "        label_images=[]\n"
   ]
  },
  {
   "cell_type": "code",
   "execution_count": 38,
   "id": "f43c6c59",
   "metadata": {},
   "outputs": [],
   "source": [
    "# Copy images to new folders\n",
    "sort_images(df=train_df,dest_dir=train_dest_dir)\n",
    "sort_images(df=val_df,dest_dir=val_dest_dir)\n",
    "sort_images(df=test_df,dest_dir=test_dest_dir)"
   ]
  }
 ],
 "metadata": {
  "kernelspec": {
   "display_name": "Python 3",
   "language": "python",
   "name": "python3"
  },
  "language_info": {
   "codemirror_mode": {
    "name": "ipython",
    "version": 3
   },
   "file_extension": ".py",
   "mimetype": "text/x-python",
   "name": "python",
   "nbconvert_exporter": "python",
   "pygments_lexer": "ipython3",
   "version": "3.8.8"
  }
 },
 "nbformat": 4,
 "nbformat_minor": 5
}
